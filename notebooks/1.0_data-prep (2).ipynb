{
 "cells": [
  {
   "cell_type": "code",
   "execution_count": 12,
   "id": "2f7fc152",
   "metadata": {},
   "outputs": [],
   "source": [
    "# https://blog.paperspace.com/writing-cnns-from-scratch-in-pytorch/\n",
    "import os\n",
    "import ast\n",
    "from PIL import Image\n",
    "import numpy as np # linear algebra\n",
    "import pandas as pd # data processing, CSV file I/O (e.g. pd.read_csv)\n",
    "import matplotlib.pyplot as plt\n",
    "# from imblearn.under_sampling import RandomUnderSampler\n",
    "from imblearn.over_sampling import RandomOverSampler\n",
    "\n",
    "# You can write up to 20GB to the current directory (/kaggle/working/) that gets preserved as output when you create a version using \"Save & Run All\" \n",
    "# You can also write temporary files to /kaggle/temp/, but they won't be saved outside of the current session\n",
    "ROOT_DIR = \"/workspace/resnet/\"\n",
    "ROOT_DATA_DIR = \"/workspace/resnet/data/raw\"\n",
    "ARCHIVE_DIR = os.path.join(ROOT_DATA_DIR, \"archive.zip\")\n",
    "DATA_DIR = os.path.join(ROOT_DATA_DIR)#, \"labelme-12-50k\")\n",
    "TRAIN_DIR = os.path.join(DATA_DIR, \"train\")\n",
    "TRAIN_ANNOT_PATH = os.path.join(TRAIN_DIR, \"annotation.txt\")\n",
    "TEST_DIR = os.path.join(DATA_DIR, \"test\")\n",
    "TEST_ANNOT_PATH = os.path.join(TEST_DIR, \"annotation.txt\")\n",
    "CLASSES_TXT_PATH = os.path.join(DATA_DIR, \"classes.txt\")\n",
    "INTERIM_DATA_DIR = \"/workspace/resnet/data/interim/\"\n",
    "# import zipfile\n",
    "# with zipfile.ZipFile(ARCHIVE_DIR, 'r') as zip_ref:\n",
    "#     zip_ref.extractall(ROOT_DATA_DIR)"
   ]
  },
  {
   "cell_type": "code",
   "execution_count": 13,
   "id": "81d63bb3",
   "metadata": {},
   "outputs": [],
   "source": [
    "# This Python 3 environment comes with many helpful analytics libraries installed\n",
    "# It is defined by the kaggle/python Docker image: https://github.com/kaggle/docker-python\n",
    "# For example, here's several helpful packages to load\n",
    "\n",
    "\n",
    "# Input data files are available in the read-only \"../input/\" directory\n",
    "# For example, running this (by clicking run or pressing Shift+Enter) will list all files under the input directory\n",
    "\n",
    "with open(CLASSES_TXT_PATH) as file:\n",
    "    class_map_s2i = {line.rstrip():i for i, line in enumerate(file.readlines()) if line.rstrip()}\n",
    "class_map_i2s = {v:k for k,v in class_map_s2i.items()}\n",
    "with open(TRAIN_ANNOT_PATH) as file:\n",
    "    train_annots = [line.rstrip().split() for line in file.readlines()]\n",
    "# train_img_path = [os.path.join(TRAIN_DIR, train_annot[0][:4], train_annot[0]+\".jpg\") for train_annot in train_annots]\n",
    "train_int_lbl = [np.argmax(np.array([int(ast.literal_eval(x)) for x in train_annot[1:]])) for train_annot in train_annots]\n",
    "train_str_lbl = [class_map_i2s[x] for x in train_int_lbl]\n",
    "train_img_path = list()\n",
    "for sub in range(0,40):\n",
    "    sub_folder = f\"{sub}\".zfill(4)\n",
    "    for file in range(0,1000):\n",
    "        train_img_path.append(os.path.join(TRAIN_DIR, sub_folder, f\"{sub_folder[-3:]}{str(file).zfill(3)}.jpg\"))\n"
   ]
  },
  {
   "cell_type": "code",
   "execution_count": 14,
   "id": "6ac0e9cf",
   "metadata": {
    "scrolled": true
   },
   "outputs": [
    {
     "name": "stdout",
     "output_type": "stream",
     "text": [
      "\n",
      "\n",
      "TRAIN DF\n"
     ]
    },
    {
     "data": {
      "text/html": [
       "<div>\n",
       "<style scoped>\n",
       "    .dataframe tbody tr th:only-of-type {\n",
       "        vertical-align: middle;\n",
       "    }\n",
       "\n",
       "    .dataframe tbody tr th {\n",
       "        vertical-align: top;\n",
       "    }\n",
       "\n",
       "    .dataframe thead th {\n",
       "        text-align: right;\n",
       "    }\n",
       "</style>\n",
       "<table border=\"1\" class=\"dataframe\">\n",
       "  <thead>\n",
       "    <tr style=\"text-align: right;\">\n",
       "      <th></th>\n",
       "      <th>img_path</th>\n",
       "      <th>int_label</th>\n",
       "      <th>str_label</th>\n",
       "    </tr>\n",
       "  </thead>\n",
       "  <tbody>\n",
       "    <tr>\n",
       "      <th>0</th>\n",
       "      <td>/workspace/resnet/data/raw/train/0000/000000.jpg</td>\n",
       "      <td>4</td>\n",
       "      <td>tree</td>\n",
       "    </tr>\n",
       "    <tr>\n",
       "      <th>1</th>\n",
       "      <td>/workspace/resnet/data/raw/train/0000/000001.jpg</td>\n",
       "      <td>1</td>\n",
       "      <td>car</td>\n",
       "    </tr>\n",
       "    <tr>\n",
       "      <th>2</th>\n",
       "      <td>/workspace/resnet/data/raw/train/0000/000002.jpg</td>\n",
       "      <td>2</td>\n",
       "      <td>building</td>\n",
       "    </tr>\n",
       "    <tr>\n",
       "      <th>3</th>\n",
       "      <td>/workspace/resnet/data/raw/train/0000/000003.jpg</td>\n",
       "      <td>1</td>\n",
       "      <td>car</td>\n",
       "    </tr>\n",
       "    <tr>\n",
       "      <th>4</th>\n",
       "      <td>/workspace/resnet/data/raw/train/0000/000004.jpg</td>\n",
       "      <td>1</td>\n",
       "      <td>car</td>\n",
       "    </tr>\n",
       "    <tr>\n",
       "      <th>...</th>\n",
       "      <td>...</td>\n",
       "      <td>...</td>\n",
       "      <td>...</td>\n",
       "    </tr>\n",
       "    <tr>\n",
       "      <th>39995</th>\n",
       "      <td>/workspace/resnet/data/raw/train/0039/039995.jpg</td>\n",
       "      <td>0</td>\n",
       "      <td>person</td>\n",
       "    </tr>\n",
       "    <tr>\n",
       "      <th>39996</th>\n",
       "      <td>/workspace/resnet/data/raw/train/0039/039996.jpg</td>\n",
       "      <td>0</td>\n",
       "      <td>person</td>\n",
       "    </tr>\n",
       "    <tr>\n",
       "      <th>39997</th>\n",
       "      <td>/workspace/resnet/data/raw/train/0039/039997.jpg</td>\n",
       "      <td>0</td>\n",
       "      <td>person</td>\n",
       "    </tr>\n",
       "    <tr>\n",
       "      <th>39998</th>\n",
       "      <td>/workspace/resnet/data/raw/train/0039/039998.jpg</td>\n",
       "      <td>0</td>\n",
       "      <td>person</td>\n",
       "    </tr>\n",
       "    <tr>\n",
       "      <th>39999</th>\n",
       "      <td>/workspace/resnet/data/raw/train/0039/039999.jpg</td>\n",
       "      <td>1</td>\n",
       "      <td>car</td>\n",
       "    </tr>\n",
       "  </tbody>\n",
       "</table>\n",
       "<p>40000 rows × 3 columns</p>\n",
       "</div>"
      ],
      "text/plain": [
       "                                               img_path  int_label str_label\n",
       "0      /workspace/resnet/data/raw/train/0000/000000.jpg          4      tree\n",
       "1      /workspace/resnet/data/raw/train/0000/000001.jpg          1       car\n",
       "2      /workspace/resnet/data/raw/train/0000/000002.jpg          2  building\n",
       "3      /workspace/resnet/data/raw/train/0000/000003.jpg          1       car\n",
       "4      /workspace/resnet/data/raw/train/0000/000004.jpg          1       car\n",
       "...                                                 ...        ...       ...\n",
       "39995  /workspace/resnet/data/raw/train/0039/039995.jpg          0    person\n",
       "39996  /workspace/resnet/data/raw/train/0039/039996.jpg          0    person\n",
       "39997  /workspace/resnet/data/raw/train/0039/039997.jpg          0    person\n",
       "39998  /workspace/resnet/data/raw/train/0039/039998.jpg          0    person\n",
       "39999  /workspace/resnet/data/raw/train/0039/039999.jpg          1       car\n",
       "\n",
       "[40000 rows x 3 columns]"
      ]
     },
     "metadata": {},
     "output_type": "display_data"
    },
    {
     "name": "stdout",
     "output_type": "stream",
     "text": [
      "person       24024\n",
      "window        4153\n",
      "car           3994\n",
      "building      2233\n",
      "tree          2073\n",
      "sign           968\n",
      "door           881\n",
      "chair          432\n",
      "bookshelf      404\n",
      "keyboard       350\n",
      "head           268\n",
      "table          220\n",
      "Name: str_label, dtype: int64\n",
      "\n",
      "\n",
      "\n",
      "TEST DF\n"
     ]
    },
    {
     "data": {
      "text/html": [
       "<div>\n",
       "<style scoped>\n",
       "    .dataframe tbody tr th:only-of-type {\n",
       "        vertical-align: middle;\n",
       "    }\n",
       "\n",
       "    .dataframe tbody tr th {\n",
       "        vertical-align: top;\n",
       "    }\n",
       "\n",
       "    .dataframe thead th {\n",
       "        text-align: right;\n",
       "    }\n",
       "</style>\n",
       "<table border=\"1\" class=\"dataframe\">\n",
       "  <thead>\n",
       "    <tr style=\"text-align: right;\">\n",
       "      <th></th>\n",
       "      <th>img_path</th>\n",
       "      <th>int_label</th>\n",
       "      <th>str_label</th>\n",
       "    </tr>\n",
       "  </thead>\n",
       "  <tbody>\n",
       "    <tr>\n",
       "      <th>0</th>\n",
       "      <td>/workspace/resnet/data/raw/test/0000/000000.jpg</td>\n",
       "      <td>1</td>\n",
       "      <td>car</td>\n",
       "    </tr>\n",
       "    <tr>\n",
       "      <th>1</th>\n",
       "      <td>/workspace/resnet/data/raw/test/0000/000001.jpg</td>\n",
       "      <td>0</td>\n",
       "      <td>person</td>\n",
       "    </tr>\n",
       "    <tr>\n",
       "      <th>2</th>\n",
       "      <td>/workspace/resnet/data/raw/test/0000/000002.jpg</td>\n",
       "      <td>1</td>\n",
       "      <td>car</td>\n",
       "    </tr>\n",
       "    <tr>\n",
       "      <th>3</th>\n",
       "      <td>/workspace/resnet/data/raw/test/0000/000003.jpg</td>\n",
       "      <td>1</td>\n",
       "      <td>car</td>\n",
       "    </tr>\n",
       "    <tr>\n",
       "      <th>4</th>\n",
       "      <td>/workspace/resnet/data/raw/test/0000/000004.jpg</td>\n",
       "      <td>0</td>\n",
       "      <td>person</td>\n",
       "    </tr>\n",
       "    <tr>\n",
       "      <th>...</th>\n",
       "      <td>...</td>\n",
       "      <td>...</td>\n",
       "      <td>...</td>\n",
       "    </tr>\n",
       "    <tr>\n",
       "      <th>9995</th>\n",
       "      <td>/workspace/resnet/data/raw/test/0009/009995.jpg</td>\n",
       "      <td>0</td>\n",
       "      <td>person</td>\n",
       "    </tr>\n",
       "    <tr>\n",
       "      <th>9996</th>\n",
       "      <td>/workspace/resnet/data/raw/test/0009/009996.jpg</td>\n",
       "      <td>1</td>\n",
       "      <td>car</td>\n",
       "    </tr>\n",
       "    <tr>\n",
       "      <th>9997</th>\n",
       "      <td>/workspace/resnet/data/raw/test/0009/009997.jpg</td>\n",
       "      <td>2</td>\n",
       "      <td>building</td>\n",
       "    </tr>\n",
       "    <tr>\n",
       "      <th>9998</th>\n",
       "      <td>/workspace/resnet/data/raw/test/0009/009998.jpg</td>\n",
       "      <td>0</td>\n",
       "      <td>person</td>\n",
       "    </tr>\n",
       "    <tr>\n",
       "      <th>9999</th>\n",
       "      <td>/workspace/resnet/data/raw/test/0009/009999.jpg</td>\n",
       "      <td>4</td>\n",
       "      <td>tree</td>\n",
       "    </tr>\n",
       "  </tbody>\n",
       "</table>\n",
       "<p>10000 rows × 3 columns</p>\n",
       "</div>"
      ],
      "text/plain": [
       "                                             img_path  int_label str_label\n",
       "0     /workspace/resnet/data/raw/test/0000/000000.jpg          1       car\n",
       "1     /workspace/resnet/data/raw/test/0000/000001.jpg          0    person\n",
       "2     /workspace/resnet/data/raw/test/0000/000002.jpg          1       car\n",
       "3     /workspace/resnet/data/raw/test/0000/000003.jpg          1       car\n",
       "4     /workspace/resnet/data/raw/test/0000/000004.jpg          0    person\n",
       "...                                               ...        ...       ...\n",
       "9995  /workspace/resnet/data/raw/test/0009/009995.jpg          0    person\n",
       "9996  /workspace/resnet/data/raw/test/0009/009996.jpg          1       car\n",
       "9997  /workspace/resnet/data/raw/test/0009/009997.jpg          2  building\n",
       "9998  /workspace/resnet/data/raw/test/0009/009998.jpg          0    person\n",
       "9999  /workspace/resnet/data/raw/test/0009/009999.jpg          4      tree\n",
       "\n",
       "[10000 rows x 3 columns]"
      ]
     },
     "metadata": {},
     "output_type": "display_data"
    },
    {
     "name": "stdout",
     "output_type": "stream",
     "text": [
      "person       5937\n",
      "window       1043\n",
      "car          1019\n",
      "building      588\n",
      "tree          543\n",
      "sign          258\n",
      "door          191\n",
      "chair         107\n",
      "bookshelf     103\n",
      "keyboard       84\n",
      "head           65\n",
      "table          62\n",
      "Name: str_label, dtype: int64\n"
     ]
    }
   ],
   "source": [
    "\n",
    "\n",
    "with open(TEST_ANNOT_PATH) as file:\n",
    "    test_annots = [line.rstrip().split() for line in file.readlines()]\n",
    "test_img_path = [os.path.join(TEST_DIR, test_annot[0][:4], test_annot[0]+\".jpg\") for test_annot in test_annots]\n",
    "test_int_lbl = [np.argmax(np.array([int(ast.literal_eval(x)) for x in test_annot[1:]])) for test_annot in test_annots]\n",
    "test_str_lbl = [class_map_i2s[x] for x in test_int_lbl]\n",
    "test_img_path = list()\n",
    "for sub in range(0,10):\n",
    "    sub_folder = f\"{sub}\".zfill(4)\n",
    "    for file in range(0,1000):\n",
    "        test_img_path.append(os.path.join(TEST_DIR, sub_folder, f\"{sub_folder[-3:]}{str(file).zfill(3)}.jpg\"))\n",
    "        \n",
    "train_df = pd.DataFrame({\"img_path\":train_img_path, \"int_label\":train_int_lbl, \"str_label\":train_str_lbl})\n",
    "test_df = pd.DataFrame({\"img_path\":test_img_path, \"int_label\":test_int_lbl, \"str_label\":test_str_lbl})\n",
    "\n",
    "print(\"\\n\\nTRAIN DF\")\n",
    "display(train_df)\n",
    "print(train_df.str_label.value_counts(dropna=False))\n",
    "\n",
    "print(\"\\n\\n\\nTEST DF\")\n",
    "display(test_df)\n",
    "print(test_df.str_label.value_counts())"
   ]
  },
  {
   "cell_type": "code",
   "execution_count": 15,
   "id": "5de23a06",
   "metadata": {},
   "outputs": [
    {
     "data": {
      "text/plain": [
       "tree         24024\n",
       "car          24024\n",
       "building     24024\n",
       "person       24024\n",
       "window       24024\n",
       "sign         24024\n",
       "door         24024\n",
       "bookshelf    24024\n",
       "chair        24024\n",
       "keyboard     24024\n",
       "head         24024\n",
       "table        24024\n",
       "Name: str_label, dtype: int64"
      ]
     },
     "execution_count": 15,
     "metadata": {},
     "output_type": "execute_result"
    }
   ],
   "source": [
    "ros = RandomOverSampler(sampling_strategy='not majority', random_state=1)\n",
    "train_df_balanced, balanced_labels = ros.fit_resample(train_df, train_df['int_label'])\n",
    "train_df_balanced.str_label.value_counts()"
   ]
  },
  {
   "cell_type": "code",
   "execution_count": 16,
   "id": "891065c8",
   "metadata": {
    "scrolled": true
   },
   "outputs": [
    {
     "data": {
      "text/plain": [
       "(40000, 3)"
      ]
     },
     "execution_count": 16,
     "metadata": {},
     "output_type": "execute_result"
    }
   ],
   "source": [
    "train_df.shape"
   ]
  },
  {
   "cell_type": "code",
   "execution_count": 17,
   "id": "7236154f",
   "metadata": {},
   "outputs": [
    {
     "data": {
      "text/plain": [
       "(288288, 3)"
      ]
     },
     "execution_count": 17,
     "metadata": {},
     "output_type": "execute_result"
    }
   ],
   "source": [
    "train_df_balanced.shape"
   ]
  },
  {
   "cell_type": "code",
   "execution_count": 18,
   "id": "abfbd190",
   "metadata": {},
   "outputs": [
    {
     "data": {
      "text/plain": [
       "person       1752\n",
       "table        1710\n",
       "chair        1693\n",
       "tree         1681\n",
       "car          1668\n",
       "building     1662\n",
       "door         1655\n",
       "window       1655\n",
       "head         1647\n",
       "bookshelf    1639\n",
       "sign         1630\n",
       "keyboard     1608\n",
       "Name: str_label, dtype: int64"
      ]
     },
     "execution_count": 18,
     "metadata": {},
     "output_type": "execute_result"
    }
   ],
   "source": [
    "# train_df_balanced_20000 = train_df_balanced_20000.sample(n=int(len(train_df)/2),random_state = 10)\n",
    "train_df_balanced_20000 = train_df_balanced.sample(n=20000,random_state = 10)\n",
    "train_df_balanced_40000 = train_df_balanced.sample(n=40000,random_state = 10)\n",
    "train_df_balanced_20000.str_label.value_counts()"
   ]
  },
  {
   "cell_type": "code",
   "execution_count": 19,
   "id": "5e774138",
   "metadata": {},
   "outputs": [
    {
     "data": {
      "text/plain": [
       "person       3438\n",
       "table        3422\n",
       "bookshelf    3392\n",
       "door         3325\n",
       "head         3317\n",
       "keyboard     3312\n",
       "chair        3305\n",
       "car          3303\n",
       "building     3302\n",
       "tree         3297\n",
       "sign         3295\n",
       "window       3292\n",
       "Name: str_label, dtype: int64"
      ]
     },
     "execution_count": 19,
     "metadata": {},
     "output_type": "execute_result"
    }
   ],
   "source": [
    "train_df_balanced_40000.str_label.value_counts()"
   ]
  },
  {
   "cell_type": "code",
   "execution_count": 20,
   "id": "b4e7c373",
   "metadata": {},
   "outputs": [],
   "source": [
    "train_df_balanced_40000.to_csv(os.path.join(INTERIM_DATA_DIR,\"balanced-train-40000.csv\"))\n",
    "train_df_balanced_20000.to_csv(os.path.join(INTERIM_DATA_DIR,\"balanced-train-20000.csv\"))\n",
    "train_df.to_csv(os.path.join(INTERIM_DATA_DIR,\"train-40000.csv\"))\n",
    "test_df.to_csv(os.path.join(INTERIM_DATA_DIR,\"test-10000.csv\"))"
   ]
  },
  {
   "cell_type": "code",
   "execution_count": 21,
   "id": "00973e4f",
   "metadata": {},
   "outputs": [
    {
     "name": "stdout",
     "output_type": "stream",
     "text": [
      "keyboard /workspace/resnet/data/raw/train/0013/013218.jpg\n"
     ]
    },
    {
     "data": {
      "image/png": "[encoded data removed]",
      "text/plain": [
       "<PIL.JpegImagePlugin.JpegImageFile image mode=RGB size=256x256>"
      ]
     },
     "execution_count": 21,
     "metadata": {},
     "output_type": "execute_result"
    }
   ],
   "source": [
    "temp = train_df_balanced[train_df_balanced.str_label == \"keyboard\"].sample(n=1)\n",
    "print(temp.str_label.values[0],temp.img_path.values[0])\n",
    "Image.open(temp.img_path.values[0])"
   ]
  },
  {
   "cell_type": "code",
   "execution_count": 22,
   "id": "56b665e6",
   "metadata": {},
   "outputs": [
    {
     "data": {
      "text/plain": [
       "img_path     /workspace/resnet/data/raw/train/0000/000000.jpg\n",
       "int_label                                                   4\n",
       "str_label                                                tree\n",
       "Name: 0, dtype: object"
      ]
     },
     "metadata": {},
     "output_type": "display_data"
    }
   ],
   "source": [
    "display(train_df.iloc[0,])"
   ]
  },
  {
   "cell_type": "code",
   "execution_count": 23,
   "id": "c0df585f",
   "metadata": {},
   "outputs": [
    {
     "name": "stdout",
     "output_type": "stream",
     "text": [
      "# packages in environment at /opt/conda:\n",
      "#\n",
      "# Name                    Version                   Build  Channel\n",
      "\n",
      "Note: you may need to restart the kernel to use updated packages.\n"
     ]
    }
   ],
   "source": [
    "conda list cudatoolkit"
   ]
  }
 ],
 "metadata": {
  "kernelspec": {
   "display_name": "Python 3 (ipykernel)",
   "language": "python",
   "name": "python3"
  },
  "language_info": {
   "codemirror_mode": {
    "name": "ipython",
    "version": 3
   },
   "file_extension": ".py",
   "mimetype": "text/x-python",
   "name": "python",
   "nbconvert_exporter": "python",
   "pygments_lexer": "ipython3",
   "version": "3.10.8"
  }
 },
 "nbformat": 4,
 "nbformat_minor": 5
}
